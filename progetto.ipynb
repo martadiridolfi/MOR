{
 "cells": [
  {
   "cell_type": "markdown",
   "metadata": {
    "id": "2IGuNCbv2QpF"
   },
   "source": [
    "# Python and C++ extension"
   ]
  },
  {
   "cell_type": "markdown",
   "metadata": {
    "id": "0Q9vfbd_4dV6"
   },
   "source": [
    "## Non Linear"
   ]
  },
  {
   "cell_type": "code",
   "execution_count": null,
   "metadata": {
    "id": "BeaV-lky4gkR"
   },
   "outputs": [],
   "source": [
    "import sys\n",
    "sys.path.append('/content/CppToPython')"
   ]
  },
  {
   "cell_type": "code",
   "execution_count": null,
   "metadata": {
    "id": "BeaV-lky4gkR"
   },
   "outputs": [],
   "source": [
    "import numpy as np\n",
    "import GeDiM4Py as gedim"
   ]
  },
  {
   "cell_type": "markdown",
   "metadata": {
    "id": "nuDFWAA8Q0b7"
   },
   "source": [
    "### Initialize"
   ]
  },
  {
   "cell_type": "code",
   "execution_count": null,
   "metadata": {
    "id": "13zM04WMQ5hJ"
   },
   "outputs": [],
   "source": [
    "lib = gedim.ImportLibrary(\"/content/CppToPython/release/GeDiM4Py.so\")\n",
    "\n",
    "config = { 'GeometricTolerance': 1.0e-8 }\n",
    "gedim.Initialize(config, lib)"
   ]
  },
  {
   "cell_type": "markdown",
   "metadata": {
    "id": "Zng9sfOKQtVo"
   },
   "source": []
  },
  {
   "cell_type": "markdown",
   "metadata": {},
   "source": [
    "## Nonlinear Elliptic Problem POD vs PINNs\n",
    "\"Finta equazione di Burger perchè la facciamo in una sola componente\"\n",
    "\n",
    "The aim of our project is to solve the following parametrized problem on the two-dimensional spatial domain $\\bar{\\Omega} = [0, 1] \\times [0, 1]$: given $\\mathbf{\\mu}=(\\mu_0, \\mu_1)\\in\\mathcal{P}=[0.1,1]\\times[0.1,1]$, find $u(\\mathbf{\\mu})$ such that\n",
    "\n",
    "$$\n",
    "\\begin{cases}\n",
    "\\displaystyle - \\Delta u(\\mathbf{\\mu}) + \\frac{\\mu_0}{\\mu_1} \\left(e^{\\mu_1\\,u(\\mathbf{\\mu})}-1\\right) = g(\\mathbf{x};\\mathbf{\\mu}) & \\text{in } \\Omega\\\\\n",
    "u = 0.0 & \\text{in } ∂Ω\n",
    "\\end{cases}\n",
    "$$\n",
    "\n",
    "where the source term is defined as $g(\\mathbf{x};\\mathbf{\\mu})=100\\,sin(2\\pi x_0)\\,cos(2\\pi x_1)\\quad \\forall\\,\\mathbf{x}=(x_0, x_1) \\in\\Omega$ \n",
    "\n",
    "The weak form of the problem becomes, find $u \\in V := H^1_0(\\Omega)$\n",
    "$$\n",
    "\\int_{\\Omega} \\nabla u\\cdot\\nabla v + \\int_{\\Omega} \\left(e^{\\mu_1\\,u(\\mathbf{\\mu})}-1\\right) v - \\int_{\\Omega} g\\, v = 0 \\quad \\forall v \\in V \\Leftrightarrow f(u; v) := f_1(u; v) + f_2(u; v) + f_3(u; v) = 0 \\quad \\forall v \\in V\n",
    "$$\n",
    "\n",
    "Using Newton schema, we solve for each $k$ iteration the problem\n",
    "$$\n",
    "J_f [\\partial u]_{|_{u_k}} \\partial u = - f(u_k; v) = 0 \\quad \\forall v \\in V\n",
    "$$\n",
    "where $J_f [\\partial u]_{|_{u_k}}$ is the evaluation of the derivative (Jacobian) of $J_f$ in the point $u_k$ along the unknown direction of $\\partial u$.\n",
    "\n",
    "Notice that the functions $f_1(u; v)$ and $f_3(u; v)$ are linear in $u$ and their Gateux derivatives are given respectively by\n",
    "\n",
    "$$\n",
    "    J_{f_1} [\\partial u]_{|_{u_k}}=f_1(u; v)=\\int_{\\Omega} \\nabla \\partial u \\cdot \\nabla v \\qquad\\text{and}\\qquad J_{f_3} [\\partial u]_{|_{u_k}}=0\n",
    "$$\n",
    "\n",
    "On the other hand $f_3(u; v)$ is non-linear in u, and its Gateaux derivative is given by\n",
    "\n",
    "\\begin{align*}\n",
    "    J_{f_2} [\\partial u]_{|_{u_k}}&=\\lim_{h\\to0}\\frac{f_2(u_k+\\partial u\\, h)-f(u_k)}{h}=\\\\\n",
    "    \\\\\n",
    "    &=\\frac{\\mu_0}{\\mu_1}\\lim_{h\\to0}\\frac{1}{h}\\int_{\\Omega} \\left(e^{\\mu_1\\,(u_k+\\partial u\\, h)}-1\\right) v-\\int_{\\Omega} \\left(e^{\\mu_1\\,u_k}-1\\right) v=\\\\\n",
    "    \\\\\n",
    "    &=\\frac{\\mu_0}{\\mu_1}\\lim_{h\\to0}\\frac{1}{h}\\int_{\\Omega} e^{\\mu_1\\,u_k}\\left(e^{\\mu_1\\,\\partial u\\, h}-1\\right) v=\\\\\n",
    "    \\\\\n",
    "    &=\\mu_0\\int_\\Omega e^{\\mu_1\\,u_k}\\, \\partial u\\,v \n",
    "\\end{align*}\n",
    "\n",
    "which is a reaction term.\n",
    "\n",
    "After computations, we find the linear system, on each $k$ iteration, fixed $u_k$ find $\\partial u$ s.t.\n",
    "\n",
    "$$\n",
    "\\int_{\\Omega} \\nabla \\partial u \\cdot \\nabla v + \\mu_0\\int_\\Omega e^{\\mu_1\\,u_k}\\, \\partial u\\,v  = - \\int_{\\Omega} \\underbrace{\\nabla u_k}_{g_1} \\cdot \\nabla v - \\int_{\\Omega} \\underbrace{\\left(e^{\\mu_1\\,u_k}-1\\right)}_{g_2} v + \\int_{\\Omega} g\\, v \n",
    "$$\n",
    "In the left hand side we have the sum of the classic diffusion, reaction and advection terms. In the right hand side we have the function $f(u; v)$ evaluated in $u_k$."
   ]
  },
  {
   "cell_type": "markdown",
   "metadata": {},
   "source": [
    "## 1. Solve the problem by means of POD-Galerkin method over a Finite Element full order model\n",
    "# 1.1 **Test**\n",
    "\n",
    " In order to implement an error study of the code we will implement, firstly we solve the Nonlinear Elliptic problem by means of POD-Galerkin method over a Finite Element full order model by choosing the exact solution $u_{ex}(\\mathbf{x}; \\mathbf{\\mu}) = 16\\,x_0\\,x_1\\,(1-x_0)(1-x_1)$ and computing the respective right hand side define as\n",
    "\n",
    " $$\n",
    " g_{ex}(\\mathbf{x};\\mathbf{\\mu}) = -\\Delta u_{ex}(\\mathbf{x};\\mathbf{\\mu})+ \\frac{\\mu_0}{\\mu_1} \\left(e^{\\mu_1\\,u_{ex}(\\mathbf{x};\\mathbf{\\mu})}-1\\right) = 32 (x_0(1-x_0)+x_1(1-x_1))+ \\frac{\\mu_0}{\\mu_1} \\left(e^{\\mu_1\\,16\\,x_0\\,x_1\\,(1-x_0)(1-x_1)}-1\\right)\n",
    " $$\n",
    " \n",
    " Then we will apply our code to the problem introduced above."
   ]
  },
  {
   "cell_type": "code",
   "execution_count": null,
   "metadata": {
    "id": "H7O49sEqW1Bk"
   },
   "outputs": [],
   "source": [
    "#the numPoints are the quadrature points in which we evaluate the basis function\n",
    "\n",
    "########## Coefficient of STIFFNESS MATRIX ##########\n",
    "def Diffusion(numPoints, points):\n",
    "\tvalues_d = np.ones(numPoints, order='F')\n",
    "\treturn values_d.ctypes.data\n",
    "#####################################################\n",
    "\n",
    "########## Functions for REACTION MATRIX ##########\n",
    "# Coefficient\n",
    "def Reaction(numPoints, points):\n",
    "\tvalues_r = np.ones(numPoints, order='F')\n",
    "\treturn values_r.ctypes.data\n",
    "\n",
    "# Coefficient depends on u_k\n",
    "def Reaction_non_linear(numPoints, points, u):\n",
    "\tvecu = gedim.make_nd_array(u, numPoints, np.double) #evaluation of u in quadrature points of our cell\n",
    "\tvalues_nl = np.exp(mu_1 * vecu)\n",
    "\treturn values_nl.ctypes.data\n",
    "#####################################################\n",
    "\n",
    "########## Functions for RIGHT HAND SIDE ##########\n",
    "# Classical right hand side g_ex computed in order to have u(x0,x1)=16*x0*x1*(1-x0)*(1-x1) as the exact solution of the nonlinear elliptic problem\n",
    "def RHS_g_ex(numPoints, points):\n",
    "\tmatPoints = gedim.make_nd_matrix(points, (3, numPoints), np.double)\n",
    "\tvalues_gex = 32.0 * (matPoints[1,:] * (1.0 - matPoints[1,:]) + matPoints[0,:] * (1.0 - matPoints[0,:])) + \\\n",
    "\t +  mu_0 / mu_1 * (np.exp(mu_1 * matPoints[0,:] * matPoints[1,:] * (1.0 - matPoints[0,:]) * (1.0 - matPoints[1,:]))-1)\n",
    "\treturn values_gex.ctypes.data\n",
    "\n",
    "# Right hand side g given from the problem\n",
    "def RHS_g(numPoints, points):\n",
    "\tmatPoints = gedim.make_nd_matrix(points, (3, numPoints), np.double)\n",
    "\tvalues_g = 100.0 * np.sin(2 * np.pi * matPoints[0,:]) * np.cos(2 * np.pi * matPoints[1,:])\n",
    "\treturn values_g.ctypes.data\n",
    "\n",
    "# Non linear term evaluated in u_k\n",
    "def RHS_non_linear_g2(numPoints, points, u):\n",
    "\tvecu = gedim.make_nd_array(u, numPoints, np.double) #evaluation of u in quadrature points of our cell\n",
    "\tvalues_nl = np.exp(mu_1 * vecu)-1\n",
    "\treturn values_nl.ctypes.data\n",
    "\n",
    "# Diffusion term evaluated in u_k\n",
    "def RHS_non_linear_g1(numPoints, points, u, u_x, u_y): #matrix that contain the gradient of our solution\n",
    "\tvecu_x = gedim.make_nd_array(u_x, numPoints, np.double)\n",
    "\tvecu_y = gedim.make_nd_array(u_y, numPoints, np.double)\n",
    "\tvalues_nl_d_f = np.zeros((2, numPoints), order='F') # we have always the geometric dimension in the rows, and number of points in the columns\n",
    "\tvalues_nl_d_f[0,:] = vecu_x\n",
    "\tvalues_nl_d_f[1,:] = vecu_y\n",
    "\treturn values_nl_d_f.ctypes.data\n",
    "#####################################################\n",
    "\n",
    "################## EXACT SOLUTION ###################\n",
    "# Evaluation in quadrature points\n",
    "def Test_exactSolution(numPoints, points): \n",
    "\tmatPoints = gedim.make_nd_matrix(points, (3, numPoints), np.double)\n",
    "\tvalues_ex = 16.0 * (matPoints[1,:] * (1.0 - matPoints[1,:]) * matPoints[0,:] * (1.0 - matPoints[0,:]))\n",
    "\treturn values_ex.ctypes.data\n",
    "\n",
    "# Derivatives in each direction\n",
    "def Test_exactDerivativeSolution(direction, numPoints, points):\n",
    "\tmatPoints = gedim.make_nd_matrix(points, (3, numPoints), np.double)\n",
    "\n",
    "\tif direction == 0:\n",
    "\t\tvalues_ex_d = 16.0 * (1.0 - 2.0 * matPoints[0,:]) * matPoints[1,:] * (1.0 - matPoints[1,:])\n",
    "\telif direction == 1:\n",
    "\t\tvalues_ex_d = 16.0 * (1.0 - 2.0 * matPoints[1,:]) * matPoints[0,:] * (1.0 - matPoints[0,:])\n",
    "\telse:\n",
    "\t\tvalues_ex_d = np.zeros(numPoints, order='F')\n",
    "\n",
    "\treturn values_ex_d.ctypes.data\n",
    "#####################################################\n",
    "\n",
    "\n",
    "def Ones(numPoints, points):\n",
    "\tvalues_one = np.ones(numPoints, order='F')\n",
    "\treturn values_one.ctypes.data\n",
    "\n",
    "def OnesDerivative(numPoints, points):\n",
    "\tvalues_one_d = np.ones((2, numPoints), order='F')\n",
    "\treturn values_one_d.ctypes.data\n",
    "\n",
    "def Zeros(numPoints, points): \n",
    "\tvalues_zero = np.zeros(numPoints, order='F')\n",
    "\treturn values_zero.ctypes.data\n",
    "\n",
    "def ZerosDerivative(direction, numPoints, points):  #gradient null in each direction\n",
    "\tvalues_zero_d = np.zeros(numPoints, order='F')\n",
    "\treturn values_zero_d.ctypes.data"
   ]
  },
  {
   "cell_type": "markdown",
   "metadata": {
    "id": "ib0pPAik4x8g"
   },
   "source": [
    "### Define Simulation Parameters"
   ]
  },
  {
   "cell_type": "markdown",
   "metadata": {},
   "source": [
    "Set geometry parameters"
   ]
  },
  {
   "cell_type": "code",
   "execution_count": null,
   "metadata": {
    "id": "2ok6VkTC40OC"
   },
   "outputs": [],
   "source": [
    "meshSize = 0.01 #We choose a meshsize = maximum area required in our domain discretization\n",
    "order = 1 #Order of finite element\n",
    "\n",
    "#all the boundary condition are homogenous dirichlte boundary condition so we use just one marker for the border equal to 1\n",
    "domain = { 'SquareEdge': 1.0, 'VerticesBoundaryCondition': [1,1,1,1], 'EdgesBoundaryCondition': [1,1,1,1], 'DiscretizationType': 1, 'MeshCellsMaximumArea': meshSize } \n",
    "[meshInfo, mesh] = gedim.CreateDomainSquare(domain, lib)\n",
    "\n",
    "discreteSpace = { 'Order': order, 'Type': 1, 'BoundaryConditionsType': [1, 2] }\n",
    "[problemData, dofs, strongs] = gedim.Discretize(discreteSpace, lib)"
   ]
  },
  {
   "cell_type": "markdown",
   "metadata": {},
   "source": [
    "### **Newton Algorithm**"
   ]
  },
  {
   "cell_type": "markdown",
   "metadata": {},
   "source": [
    "Set Newton parameters"
   ]
  },
  {
   "cell_type": "code",
   "execution_count": null,
   "metadata": {
    "id": "2ok6VkTC40OC"
   },
   "outputs": [],
   "source": [
    "residual_norm = 1.0; # variable in which we sotre the residual L2 norm\n",
    "solution_norm = 1.0; # variable in which we store the solution L2 norm. They are needed in order to implement a Newton step\n",
    "newton_tol = 1.0e-6 # tolerance we want to achieve with the solution approximation. It cannot be lower than the machine precision (epsilon di macchina)\n",
    "max_iterations = 20 # 7 # if the mesh is not too fine it is not necessary a too high number of iteration\n",
    "num_iteration = 1 "
   ]
  },
  {
   "cell_type": "markdown",
   "metadata": {},
   "source": [
    "Set Initial Solution"
   ]
  },
  {
   "cell_type": "code",
   "execution_count": null,
   "metadata": {},
   "outputs": [],
   "source": [
    "# Newton schema is a second order algorithm, ...(min.14)\n",
    "u_k = np.zeros(problemData['NumberDOFs'], order='F') \n",
    "u_strong = np.zeros(problemData['NumberStrongs'], order='F')"
   ]
  },
  {
   "cell_type": "markdown",
   "metadata": {},
   "source": [
    "## **POD**"
   ]
  },
  {
   "cell_type": "markdown",
   "metadata": {},
   "source": [
    "Let us define the training set for the POD"
   ]
  },
  {
   "cell_type": "code",
   "execution_count": null,
   "metadata": {},
   "outputs": [],
   "source": [
    "### define the training set\n",
    "\n",
    "snapshot_num = 300\n",
    "mu1_range = [0.1, 1.]\n",
    "mu2_range = [0.1, 1.]\n",
    "P = np.array([mu1_range, mu2_range])\n",
    "\n",
    "training_set = np.random.uniform(low=P[:, 0], high=P[:, 1], size=(snapshot_num, P.shape[0]))"
   ]
  },
  {
   "cell_type": "markdown",
   "metadata": {},
   "source": [
    "We can now proceed with the snapshot matrix creation. However, we need to be careful: the problem is not affine in the parameters and we need to assemble the Reaction matrix and the nonlinear forcing term for each parametric instance."
   ]
  },
  {
   "cell_type": "code",
   "execution_count": null,
   "metadata": {},
   "outputs": [],
   "source": [
    "################################ SNAPSHOT MATRIX ##############################\n",
    "snapshot_matrix = []\n",
    "\n",
    "tol = 1. - 1e-7\n",
    "N_max = 10\n",
    "\n",
    "for mu in training_set:\n",
    "    mu_0 = mu[0]\n",
    "    mu_1 = mu[1]\n",
    "\n",
    "    while num_iteration < max_iterations and residual_norm > newton_tol * solution_norm: \n",
    "        \n",
    "        # Stiffness matrix\n",
    "        [stiffness, stiffnessStrong] = gedim.AssembleStiffnessMatrix(Diffusion, problemData, lib)\n",
    "\n",
    "        inner_product = stiffness\n",
    "\n",
    "        # Reaction matrix\n",
    "        [reaction1, reactionStrong1] = gedim.AssembleNonLinearReactionMatrix(Reaction, Reaction_non_linear, u_k, u_strong, problemData, lib)\n",
    "\n",
    "        reaction = mu_0 * reaction\n",
    "\n",
    "        # Forcing term associate to the chosen exact solution\n",
    "        forcingTerm_g_ex = gedim.AssembleForcingTerm(RHS_g_ex, problemData, lib)\n",
    "\n",
    "        # Diffusion term evaluated in u_k\n",
    "        forcingTerm_der_v = gedim.AssembleNonLinearDerivativeForcingTerm(OnesDerivative, RHS_non_linear_g1, u_k, u_strong, problemData, lib)\n",
    "    \n",
    "        # Nonlinear term evaluated in u_k\n",
    "        forcingTerm_v = gedim.AssembleNonLinearForcingTerm(Ones, RHS_non_linear_g2, u_k, u_strong, problemData, lib)\n",
    "\n",
    "        \n",
    "        du = gedim.LUSolver(stiffness + reaction, \\\n",
    "                forcingTerm_g_ex - forcingTerm_v - forcingTerm_der_v, \\\n",
    "                lib)\n",
    "    \n",
    "        # Newton step: we add to the old solution the increment found with the Newton method\n",
    "        u_k = u_k + du\n",
    "\n",
    "        #Error computation: con il galerkin classico possiamo calcolare l'errore con le funzioni ComputeError, ma se il metodo non è quello classico, non è detto esistano le rispettive funzioni\n",
    "        du_normL2 = gedim.ComputeErrorL2(Zeros, du, np.zeros(problemData['NumberStrongs'], order='F'), lib)\n",
    "        u_errorL2 = gedim.ComputeErrorL2(Test_exactSolution, u_k, u_strong, lib)\n",
    "        u_errorH1 = gedim.ComputeErrorH1(Test_exactDerivativeSolution, u_k, u_strong, lib) \n",
    "        u_normL2 = gedim.ComputeErrorL2(Zeros, u_k, u_strong, lib) # we aim it is zero, so we pass to it the zero function\n",
    "        u_normH1 = gedim.ComputeErrorH1(ZerosDerivative, u_k, u_strong, lib) #Similarly t the previous, we pass the function with derivative null along each direction\n",
    "    \n",
    "        solution_norm = u_normL2;\n",
    "        residual_norm = du_normL2;\n",
    "    \n",
    "        print(\"dofs\", \"h\", \"errorL2\", \"errorH1\", \"residual\", \"iteration\", \"max_iteration\")\n",
    "        print(problemData['NumberDOFs'], '{:.16e}'.format(problemData['H']), '{:.16e}'.format(u_errorL2 / u_normL2), '{:.16e}'.format(u_errorH1 / u_normH1), '{:.16e}'.format(residual_norm / u_normL2), '{:d}'.format(num_iteration), '{:d}'.format(max_iterations)) \n",
    "    \n",
    "        num_iteration = num_iteration + 1\n",
    "    \n",
    "    snapshot_matrix.append(np.copy(u_k))\n",
    "\n",
    "snapshot_matrix = np.array(snapshot_matrix)\n"
   ]
  },
  {
   "cell_type": "markdown",
   "metadata": {},
   "source": [
    "Let us build and analyze the covariance matrix."
   ]
  },
  {
   "cell_type": "code",
   "execution_count": null,
   "metadata": {},
   "outputs": [],
   "source": [
    "C = snapshot_matrix @ inner_product @ np.transpose(snapshot_matrix) ## metti inner product\n",
    "\n",
    "# VM, L, VMt = np.linalg.svd((C))\n",
    "\n",
    "L_e, VM_e = np.linalg.eig(C)\n",
    "eigenvalues = []\n",
    "eigenvectors = []\n",
    "\n",
    "\n",
    "#### check\n",
    "\n",
    "for i in range(len(L_e)):\n",
    "  eig_real = L_e[i].real\n",
    "  eig_complex = L_e[i].imag\n",
    "  assert np.isclose(eig_complex, 0.)\n",
    "  eigenvalues.append(eig_real)\n",
    "  eigenvectors.append(VM_e[i].real)\n",
    "\n",
    "\n",
    "total_energy = sum(eigenvalues)\n",
    "retained_energy_vector = np.cumsum(eigenvalues)\n",
    "relative_retained_energy = retained_energy_vector/total_energy\n",
    "\n",
    "\n",
    "if all(flag==False for flag in relative_retained_energy>= tol):\n",
    "  N = N_max\n",
    "else:\n",
    "  N = np.argmax(relative_retained_energy >= tol) + 1\n",
    "\n",
    "print(N)\n",
    "print(relative_retained_energy)"
   ]
  },
  {
   "cell_type": "markdown",
   "metadata": {},
   "source": [
    "And now let us build the basis functions and $\\mathbb B$."
   ]
  },
  {
   "cell_type": "code",
   "execution_count": null,
   "metadata": {},
   "outputs": [],
   "source": [
    "# Create the basis function matrix\n",
    "basis_functions = []\n",
    "for n in range(N):\n",
    "  eigenvector =  eigenvectors[n]\n",
    "  basis = np.transpose(snapshot_matrix) @ eigenvector\n",
    "  norm = np.sqrt(np.transpose(basis) @ inner_product @ basis)\n",
    "  basis /= norm\n",
    "  basis_functions.append(np.copy(basis))\n",
    "\n",
    "basis_functions = np.transpose(np.array(basis_functions))"
   ]
  },
  {
   "cell_type": "markdown",
   "metadata": {},
   "source": [
    "### Standard ROMs\n",
    "If we want to perform standard ROMs we still need to implement the Newton algorithm and assemble the system."
   ]
  },
  {
   "cell_type": "markdown",
   "metadata": {},
   "source": [
    "### New parameters"
   ]
  },
  {
   "cell_type": "code",
   "execution_count": null,
   "metadata": {},
   "outputs": [],
   "source": [
    "mu_0 = 0.8\n",
    "mu_1 = 0.4"
   ]
  },
  {
   "cell_type": "code",
   "execution_count": null,
   "metadata": {},
   "outputs": [],
   "source": [
    "while num_iteration < max_iterations and residual_norm > newton_tol * solution_norm: \n",
    "        \n",
    "    # Stiffness matrix\n",
    "    [stiffness, stiffnessStrong] = gedim.AssembleStiffnessMatrix(Diffusion, problemData, lib)\n",
    "\n",
    "    # Reaction matrix\n",
    "    [reaction1, reactionStrong1] = gedim.AssembleNonLinearReactionMatrix(Reaction, Reaction_non_linear, u_k, u_strong, problemData, lib)\n",
    "\n",
    "    reaction = mu_0 * reaction\n",
    "\n",
    "    # Forcing term given by the problem\n",
    "    forcingTerm_g_ex = gedim.AssembleForcingTerm(RHS_g_ex, problemData, lib)\n",
    "\n",
    "    # Diffusion term evaluated in u_k\n",
    "    forcingTerm_der_v = gedim.AssembleNonLinearDerivativeForcingTerm(OnesDerivative, RHS_non_linear_g1, u_k, u_strong, problemData, lib)\n",
    "    \n",
    "    # Nonlinear term evaluated in u_k\n",
    "    forcingTerm_v = gedim.AssembleNonLinearForcingTerm(Ones, RHS_non_linear_g2, u_k, u_strong, problemData, lib)\n",
    "\n",
    "    ##################### REDUCED #########################\n",
    "    reduced_stiff = np.transpose(basis_functions) @ stiffness @ basis_functions\n",
    "    reduced_reac = np.transpose(basis_functions) @ reaction @ basis_functions\n",
    "\n",
    "    reduced_fT_gex =  np.transpose(basis_functions) @ forcingTerm_g_ex\n",
    "    reduced_fT_der_v =  np.transpose(basis_functions) @ forcingTerm_der_v\n",
    "    reduced_fT_v =  np.transpose(basis_functions) @ forcingTerm_v\n",
    "\n",
    "    \n",
    "    reduced_du = gedim.LUSolver(reduced_stiff + reduced_reac, \\\n",
    "            reduced_fT_gex - reduced_fT_der_v - reduced_fT_v, \\\n",
    "            lib)\n",
    "    \n",
    "    # Newton step: we add to the old solution the increment found with the Newton method\n",
    "    reduced_u_k = reduced_u_k + reduced_du\n",
    "    \n",
    "    #Projection of reduced soution u_k\n",
    "    u_k = basis_functions @ reduced_u_k \n",
    "\n",
    "    #Error computation: con il galerkin classico possiamo calcolare l'errore con le funzioni ComputeError, ma se il metodo non è quello classico, non è detto esistano le rispettive funzioni\n",
    "    du_normL2 = gedim.ComputeErrorL2(Zeros, reduced_du, np.zeros(problemData['NumberStrongs'], order='F'), lib)\n",
    "    u_errorL2 = gedim.ComputeErrorL2(Test_exactSolution, u_k, u_strong, lib)\n",
    "    u_errorH1 = gedim.ComputeErrorH1(Test_exactDerivativeSolution, u_k, u_strong, lib) \n",
    "    u_normL2 = gedim.ComputeErrorL2(Zeros, u_k, u_strong, lib) # we aim it is zero, so we pass to it the zero function\n",
    "    u_normH1 = gedim.ComputeErrorH1(ZerosDerivative, u_k, u_strong, lib) #Similarly t the previous, we pass the function with derivative null along each direction\n",
    "    \n",
    "    solution_norm = u_normL2;\n",
    "    residual_norm = du_normL2;\n",
    "    \n",
    "    print(\"dofs\", \"h\", \"errorL2\", \"errorH1\", \"residual\", \"iteration\", \"max_iteration\")\n",
    "    print(problemData['NumberDOFs'], '{:.16e}'.format(problemData['H']), '{:.16e}'.format(u_errorL2 / u_normL2), '{:.16e}'.format(u_errorH1 / u_normH1), '{:.16e}'.format(residual_norm / u_normL2), '{:d}'.format(num_iteration), '{:d}'.format(max_iterations)) \n",
    "    \n",
    "    num_iteration = num_iteration + 1"
   ]
  },
  {
   "cell_type": "markdown",
   "metadata": {},
   "source": [
    "### Plot Solution"
   ]
  },
  {
   "cell_type": "code",
   "execution_count": null,
   "metadata": {},
   "outputs": [],
   "source": [
    "#Visualizzazione della soluzione e calcolo dell'errore FONDAMENTALI NEL PROGETTO !!!\n",
    "gedim.PlotSolution(mesh, dofs, strongs, u_k, u_strong)\n",
    "\n",
    "#PLotSolution implements in Pyton the two plot of 2D and 3D plots of the solution. IT's better to export the solution in order to visulize the solution in other applications, as ParaView\n",
    "#ExportSolution give us a file .inp which is the file format of the UCD structur file. It's limitated to specific type of geometrical elemntsù: tringle hexahedron, thetraedron, pyramidon, line, points.\n",
    "# Filter \"Warp by scalar\" in ParaView let choos one of the scalar associated to the solution... to 3D visualization\n",
    "gedim.ExportSolution(Test_exactSolution, u_k, u_strong, lib)\n",
    "\n",
    "#Nella costruzione delle funzioni non ci interessava sapere chi fossero i nodi di quadratura per la costruzione delle matrici. In questo caso invece, dovendo valutare l'errore in tutte\n",
    "#le celle dobbiamo conoscere i nodi di quadratura in tutto il dominio e li salviamo nella matrice globale quadraturePoints\n",
    "#Inoltre per ogni nodo di quadratura dobbiamo conoscere il peso per cui dobbiamo moltiplicare, altrimenti l'approssimazione dell'integrale non è corretta. \n",
    "#La sommma dei pesi è 1 poichè approssimo l'integrale della funzione unitaria che fornisce la misura del nostro dominio\n",
    "[numQuadraturePoints, quadraturePoints, quadratureWeights, sol, sol_x, sol_y] = gedim.EvaluateSolutionOnPoints(u_k, u_strong, lib)\n",
    "\n",
    "#If the order of FE is 2 the PlotSoution does not use the info on the middle points of the FE but just that on the vertices\n",
    "#In order to taking account also of the dofs that are not equal to the vertices we use ExtractSolutionOnPoints.\n",
    "#We have a collection of points and in each point we have a value of the solution: we have the galerkin numerical solution evaluated in each qadrature formula. \n",
    "#We don't have the solution on the cells.\n",
    "#In order to have the solution on cells we have to add a filter to the numeric solution that is associated to each point of the mesh, not to the cell. We need to change cell\n",
    "#array to point array: using cellDataPointData.\n",
    "#Then, we have to generate a mesh: we use the Delauneay 2D from the filter on the solution on points. We obtain a mesh conformed to our points.\n",
    "#The borders are missing because the quadrature formula is implemented INSIDE the cells. We add the warpByScalar filter and we see the expected better approximation of the exact solution\n",
    "gedim.ExportSolutionOnPoints(numQuadraturePoints, quadraturePoints, sol, lib) \n",
    "\n",
    "\n",
    "#If we have a network, notice that sol is an array with shape 864, and for each point we have the evaluation of the solution on each point. In Galerkin it is correct, but not in NN\n",
    "#In the latter case we have to evaluate the network in quadrature points adding the line \n",
    "#nn(QuadraturePoints)\n",
    "#before the export."
   ]
  },
  {
   "cell_type": "markdown",
   "metadata": {},
   "source": [
    "Let us comment a bit on the error analysis and the _speed up_."
   ]
  },
  {
   "cell_type": "code",
   "execution_count": null,
   "metadata": {},
   "outputs": [],
   "source": [
    "### compute error\n",
    "import time\n",
    "\n",
    "abs_err = []\n",
    "rel_err = []\n",
    "testing_set = np.random.uniform(low=P[:, 0], high=P[:, 1], size=(100, P.shape[0]))\n",
    "speed_up = []\n",
    "\n",
    "print(\"Computing error and speedup analysis\")\n",
    "\n",
    "for mu in testing_set:\n",
    "  \n",
    "  mu_0 = mu[0]\n",
    "  mu_1 = mu[1]\n",
    "  \n",
    "  #### the problem is not affine: I have to assemble in this stage!! ### Above we don't assemble everything together\n",
    "  start_assembling = time.time() # we introduce a time assembling\n",
    "  Dirichlet_top = gedim.AssembleStrongSolution(Dirichlet_Term, 3, problemData, lib) ## label \n",
    "  f1_D = stiffnessStrong1 @ Dirichlet_top\n",
    "  f2_D = stiffnessStrong2 @ Dirichlet_top\n",
    "  r_f1_D = np.transpose(basis_functions) @ (stiffnessStrong1 @ Dirichlet_top)\n",
    "  r_f2_D = np.transpose(basis_functions) @ (stiffnessStrong2 @ Dirichlet_top)\n",
    "  time_assembling =  time.time() - start_assembling\n",
    "\n",
    "  ##### full #####\n",
    "  stiffness = thetaA1*stiffness1 + thetaA2*stiffness2\n",
    "  weakTerm_down = thetaf1*weakTerm_down1\n",
    "  f = weakTerm_down - (thetaA1*stiffnessStrong1 + thetaA2*stiffnessStrong2) @ Dirichlet_top\n",
    "  \n",
    "  \n",
    "  start_fom = time.time()\n",
    "  full_solution = gedim.LUSolver(stiffness, f, lib)\n",
    "  time_fom = time.time() - start_fom\n",
    "\n",
    "  #### reduced #####\n",
    "\n",
    "  reduced_rhs = thetaA1*reduced_stiff1 + thetaA2*reduced_stiff2\n",
    "  reduced_lhs = thetaf1*reduced_w - (thetaA1*r_f1_D + thetaA2*r_f2_D)\n",
    "  \n",
    "  start_rom = time.time()\n",
    "  reduced_solution = np.linalg.solve(reduced_rhs, reduced_lhs)\n",
    "  time_rom = time.time() - start_rom\n",
    "  \n",
    "  speed_up.append(time_fom/(time_rom + time_assembling))\n",
    "  \n",
    "  proj_reduced_solution = basis_functions@reduced_solution\n",
    "\n",
    "  ### computing error\n",
    "\n",
    "  error_function = full_solution - proj_reduced_solution\n",
    "  error_norm_squared_component = np.transpose(error_function) @ inner_product @ error_function\n",
    "  absolute_error = np.sqrt(abs(error_norm_squared_component))\n",
    "  abs_err.append(absolute_error)\n",
    "  \n",
    "  full_solution_norm_squared_component = np.transpose(full_solution) @  inner_product @ full_solution\n",
    "  relative_error = absolute_error/np.sqrt(abs(full_solution_norm_squared_component))\n",
    "  rel_err.append(relative_error)\n",
    "  "
   ]
  },
  {
   "cell_type": "markdown",
   "metadata": {},
   "source": [
    "# 1.2 **The problem**\n",
    "From the error study we have seen that our code give a good approximation of the exact solution. We now implement the code in order to find an approximation of the unknown solution of the nonlinear elliptic problem with the forcing term equal to \n",
    "$$\n",
    "g(\\mathbf{x};\\mathbf{\\mu})=100\\,sin(2\\pi x_0)\\,cos(2\\pi x_1)\\quad \\forall\\,\\mathbf{x}=(x_0, x_1) \\in\\Omega\n",
    "$$"
   ]
  },
  {
   "cell_type": "code",
   "execution_count": null,
   "metadata": {},
   "outputs": [],
   "source": [
    "# Right hand side g given from the problem\n",
    "def RHS_g(numPoints, points):\n",
    "\tmatPoints = gedim.make_nd_matrix(points, (3, numPoints), np.double)\n",
    "\tvalues_g = 100.0 * np.sin(2 * np.pi * matPoints[0,:]) * np.cos(2 * np.pi * matPoints[1,:])\n",
    "\treturn values_g.ctypes.data"
   ]
  },
  {
   "cell_type": "markdown",
   "metadata": {},
   "source": [
    "Set Newton parameters"
   ]
  },
  {
   "cell_type": "code",
   "execution_count": null,
   "metadata": {},
   "outputs": [],
   "source": [
    "residual_norm = 1.0; # variable in which we sotre the residual L2 norm\n",
    "solution_norm = 1.0; # variable in which we store the solution L2 norm. They are needed in order to implement a Newton step\n",
    "newton_tol = 1.0e-6 # tolerance we want to achieve with the solution approximation. It cannot be lower than the machine precision (epsilon di macchina)\n",
    "max_iterations = 20 # 7 # if the mesh is not too fine it is not necessary a too high number of iteration\n",
    "num_iteration = 1 "
   ]
  },
  {
   "cell_type": "markdown",
   "metadata": {},
   "source": [
    "Set Initial Solution"
   ]
  },
  {
   "cell_type": "code",
   "execution_count": null,
   "metadata": {},
   "outputs": [],
   "source": [
    "# Newton schema is a second order algorithm, ...(min.14)\n",
    "u_k = np.zeros(problemData['NumberDOFs'], order='F') \n",
    "u_strong = np.zeros(problemData['NumberStrongs'], order='F')"
   ]
  },
  {
   "cell_type": "markdown",
   "metadata": {},
   "source": [
    "### Newton algorithm"
   ]
  },
  {
   "cell_type": "code",
   "execution_count": null,
   "metadata": {},
   "outputs": [],
   "source": [
    "\n",
    "while num_iteration < max_iterations and residual_norm > newton_tol * solution_norm: \n",
    "        \n",
    "    # Stiffness matrix\n",
    "    [stiffness, stiffnessStrong] = gedim.AssembleStiffnessMatrix(Diffusion, problemData, lib)\n",
    "\n",
    "\n",
    "    # Reaction matrix\n",
    "    [reaction1, reactionStrong1] = gedim.AssembleNonLinearReactionMatrix(Reaction, Reaction_non_linear, u_k, u_strong, problemData, lib)\n",
    "\n",
    "    reaction = mu_0 * reaction\n",
    "\n",
    "    # Forcing term given by the problem\n",
    "    forcingTerm_g = gedim.AssembleForcingTerm(RHS_g, problemData, lib)\n",
    "\n",
    "    # Diffusion term evaluated in u_k\n",
    "    forcingTerm_der_v = gedim.AssembleNonLinearDerivativeForcingTerm(OnesDerivative, RHS_non_linear_g1, u_k, u_strong, problemData, lib)\n",
    "    \n",
    "    # Nonlinear term evaluated in u_k\n",
    "    forcingTerm_v = gedim.AssembleNonLinearForcingTerm(Ones, RHS_non_linear_g2, u_k, u_strong, problemData, lib)\n",
    "\n",
    "        \n",
    "    du = gedim.LUSolver(stiffness + reaction, \\\n",
    "            forcingTerm_g - forcingTerm_v - forcingTerm_der_v, \\\n",
    "            lib)\n",
    "    \n",
    "    # Newton step: we add to the old solution the increment found with the Newton method\n",
    "    u_k = u_k + du\n",
    "    \n",
    "    du_normL2 = gedim.ComputeErrorL2(Zeros, du, np.zeros(problemData['NumberStrongs'], order='F'), lib)\n",
    "    u_normL2 = gedim.ComputeErrorL2(Zeros, u_k, u_strong, lib) \n",
    "    u_normH1 = gedim.ComputeErrorH1(ZerosDerivative, u_k, u_strong, lib)\n",
    "\n",
    "    solution_norm = u_normL2;\n",
    "    residual_norm = du_normL2;\n",
    "    \n",
    "    print(\"dofs\", \"h\", \"residual\", \"iteration\", \"max_iteration\")\n",
    "    print(problemData['NumberDOFs'], '{:.16e}'.format(problemData['H']), '{:.16e}'.format(residual_norm / u_normL2), '{:d}'.format(num_iteration), '{:d}'.format(max_iterations)) \n",
    "    \n",
    "    num_iteration = num_iteration + 1\n"
   ]
  },
  {
   "cell_type": "markdown",
   "metadata": {},
   "source": [
    "### Plot Solution"
   ]
  },
  {
   "cell_type": "code",
   "execution_count": null,
   "metadata": {},
   "outputs": [],
   "source": [
    "#Visualizzazione della soluzione e calcolo dell'errore FONDAMENTALI NEL PROGETTO !!!\n",
    "gedim.PlotSolution(mesh, dofs, strongs, u_k, u_strong)\n",
    "\n",
    "#PLotSolution implements in Pyton the two plot of 2D and 3D plots of the solution. IT's better to export the solution in order to visulize the solution in other applications, as ParaView\n",
    "#ExportSolution give us a file .inp which is the file format of the UCD structur file. It's limitated to specific type of geometrical elemntsù: tringle hexahedron, thetraedron, pyramidon, line, points.\n",
    "# Filter \"Warp by scalar\" in ParaView let choos one of the scalar associated to the solution... to 3D visualization\n",
    "gedim.ExportSolution(Test_exactSolution, u_k, u_strong, lib)\n",
    "\n",
    "#Nella costruzione delle funzioni non ci interessava sapere chi fossero i nodi di quadratura per la costruzione delle matrici. In questo caso invece, dovendo valutare l'errore in tutte\n",
    "#le celle dobbiamo conoscere i nodi di quadratura in tutto il dominio e li salviamo nella matrice globale quadraturePoints\n",
    "#Inoltre per ogni nodo di quadratura dobbiamo conoscere il peso per cui dobbiamo moltiplicare, altrimenti l'approssimazione dell'integrale non è corretta. \n",
    "#La sommma dei pesi è 1 poichè approssimo l'integrale della funzione unitaria che fornisce la misura del nostro dominio\n",
    "[numQuadraturePoints, quadraturePoints, quadratureWeights, sol, sol_x, sol_y] = gedim.EvaluateSolutionOnPoints(u_k, u_strong, lib)\n",
    "\n",
    "#If the order of FE is 2 the PlotSoution does not use the info on the middle points of the FE but just that on the vertices\n",
    "#In order to taking account also of the dofs that are not equal to the vertices we use ExtractSolutionOnPoints.\n",
    "#We have a collection of points and in each point we have a value of the solution: we have the galerkin numerical solution evaluated in each qadrature formula. \n",
    "#We don't have the solution on the cells.\n",
    "#In order to have the solution on cells we have to add a filter to the numeric solution that is associated to each point of the mesh, not to the cell. We need to change cell\n",
    "#array to point array: using cellDataPointData.\n",
    "#Then, we have to generate a mesh: we use the Delauneay 2D from the filter on the solution on points. We obtain a mesh conformed to our points.\n",
    "#The borders are missing because the quadrature formula is implemented INSIDE the cells. We add the warpByScalar filter and we see the expected better approximation of the exact solution\n",
    "gedim.ExportSolutionOnPoints(numQuadraturePoints, quadraturePoints, sol, lib) \n",
    "\n",
    "\n",
    "#If we have a network, notice that sol is an array with shape 864, and for each point we have the evaluation of the solution on each point. In Galerkin it is correct, but not in NN\n",
    "#In the latter case we have to evaluate the network in quadrature points adding the line \n",
    "#nn(QuadraturePoints)\n",
    "#before the export."
   ]
  }
 ],
 "metadata": {
  "colab": {
   "provenance": []
  },
  "kernelspec": {
   "display_name": "Python 3 (ipykernel)",
   "language": "python",
   "name": "python3"
  },
  "language_info": {
   "codemirror_mode": {
    "name": "ipython",
    "version": 3
   },
   "file_extension": ".py",
   "mimetype": "text/x-python",
   "name": "python",
   "nbconvert_exporter": "python",
   "pygments_lexer": "ipython3",
   "version": "3.10.14"
  }
 },
 "nbformat": 4,
 "nbformat_minor": 4
}
