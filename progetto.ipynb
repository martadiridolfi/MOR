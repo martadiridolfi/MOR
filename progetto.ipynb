{
 "cells": [
  {
   "cell_type": "markdown",
   "metadata": {
    "id": "2IGuNCbv2QpF"
   },
   "source": [
    "# Python and C++ extension"
   ]
  },
  {
   "cell_type": "markdown",
   "metadata": {
    "id": "0Q9vfbd_4dV6"
   },
   "source": [
    "## Non Linear"
   ]
  },
  {
   "cell_type": "code",
   "execution_count": null,
   "metadata": {
    "id": "BeaV-lky4gkR"
   },
   "outputs": [],
   "source": [
    "import sys\n",
    "sys.path.append('/content/CppToPython')"
   ]
  },
  {
   "cell_type": "code",
   "execution_count": null,
   "metadata": {
    "id": "BeaV-lky4gkR"
   },
   "outputs": [],
   "source": [
    "import numpy as np\n",
    "import GeDiM4Py as gedim"
   ]
  },
  {
   "cell_type": "markdown",
   "metadata": {
    "id": "nuDFWAA8Q0b7"
   },
   "source": [
    "### Initialize"
   ]
  },
  {
   "cell_type": "code",
   "execution_count": null,
   "metadata": {
    "id": "13zM04WMQ5hJ"
   },
   "outputs": [],
   "source": [
    "lib = gedim.ImportLibrary(\"/content/CppToPython/release/GeDiM4Py.so\")\n",
    "\n",
    "config = { 'GeometricTolerance': 1.0e-8 }\n",
    "gedim.Initialize(config, lib)"
   ]
  },
  {
   "cell_type": "markdown",
   "metadata": {
    "id": "Zng9sfOKQtVo"
   },
   "source": [
    "## Nonlinear Elliptic Problem POD vs PINNs\n",
    "\"Finta equazione di Burger perchè la facciamo in una sola componente\"\n",
    "\n",
    "The aim of our project is to solve the following parametrized problem on the two-dimensional spatial domain $\\bar{\\Omega} = [0, 1] \\times [0, 1]$: given $\\mathbf{\\mu}=(\\mu_0, \\mu_1)\\in\\mathcal{P}=[0.1,1]\\times[0.1,1]$, find $u(\\mathbf{\\mu})$ such that\n",
    "\n",
    "$$\n",
    "\\begin{cases}\n",
    "\\displaystyle - \\Delta u(\\mathbf{\\mu}) + \\frac{\\mu_0}{\\mu_1} \\left(e^{\\mu_1\\,u(\\mathbf{\\mu})}-1\\right) = g(\\mathbf{x};\\mathbf{\\mu}) & \\text{in } \\Omega\\\\\n",
    "u = 0.0 & \\text{in } ∂Ω\n",
    "\\end{cases}\n",
    "$$\n",
    "\n",
    "where the source term is defined as $g(\\mathbf{x};\\mathbf{\\mu})=100\\,sin(2\\pi x_0)\\,cos(2\\pi x_1)\\quad \\forall\\,\\mathbf{x}=(x_0, x_1) \\in\\Omega$ \n",
    "\n",
    "$u = 16 xy(1-x)(1-y)$.\n",
    "\n",
    "The weak form of the problem becomes, find $u \\in V := H^1_0(\\Omega)$\n",
    "$$\n",
    "\\int_{\\Omega} \\nabla u\\cdot\\nabla v + \\int_{\\Omega} \\left(e^{\\mu_1\\,u(\\mathbf{\\mu})}-1\\right) v - \\int_{\\Omega} g\\, v = 0 \\quad \\forall v \\in V \\Leftrightarrow f(u; v) := f_1(u; v) + f_2(u; v) + f_3(u; v) = 0 \\quad \\forall v \\in V\n",
    "$$\n",
    "\n",
    "Using Newton schema, we solve for each $k$ iteration the problem\n",
    "$$\n",
    "J_f [\\partial u]_{|_{u_k}} \\partial u = - f(u_k; v) = 0 \\quad \\forall v \\in V\n",
    "$$\n",
    "where $J_f [\\partial u]_{|_{u_k}}$ is the evaluation of the derivative (Jacobian) of $J_f$ in the point $u_k$ along the unknown direction of $\\partial u$.\n",
    "\n",
    "Notice that the functions $f_1(u; v)$ and $f_3(u; v)$ are linear in $u$ and their Gateux derivatives are given respectively by\n",
    "\n",
    "$$\n",
    "    J_{f_1} [\\partial u]_{|_{u_k}}=f_1(u; v)=\\int_{\\Omega} \\nabla \\partial u \\cdot \\nabla v \\qquad\\text{and}\\qquad J_{f_3} [\\partial u]_{|_{u_k}}=0\n",
    "$$\n",
    "\n",
    "On the other hand $f_3(u; v)$ is non-linear in u, and its Gateaux derivative is given by\n",
    "\n",
    "\\begin{align*}\n",
    "    J_{f_2} [\\partial u]_{|_{u_k}}&=\\lim_{h\\to0}\\frac{f_2(u_k+\\partial u\\, h)-f(u_k)}{h}=\\\\\n",
    "    \\\\\n",
    "    &=\\frac{\\mu_0}{\\mu_1}\\lim_{h\\to0}\\frac{1}{h}\\int_{\\Omega} \\left(e^{\\mu_1\\,(u_k+\\partial u\\, h)}-1\\right) v-\\int_{\\Omega} \\left(e^{\\mu_1\\,u_k}-1\\right) v=\\\\\n",
    "    \\\\\n",
    "    &=\\frac{\\mu_0}{\\mu_1}\\lim_{h\\to0}\\frac{1}{h}\\int_{\\Omega} e^{\\mu_1\\,u_k}\\left(e^{\\mu_1\\,\\partial u\\, h}-1\\right) v=\\\\\n",
    "    \\\\\n",
    "    &=\\mu_0\\int_\\Omega e^{\\mu_1\\,u_k}\\, \\partial u\\,v \n",
    "\\end{align*}\n",
    "\n",
    "which is a reaction term.\n",
    "\n",
    "After computations, we find the linear system, on each $k$ iteration, fixed $u_k$ find $\\partial u$ s.t.\n",
    "\n",
    "$$\n",
    "\\int_{\\Omega} \\nabla \\partial u \\cdot \\nabla v + \\mu_0\\int_\\Omega e^{\\mu_1\\,u_k}\\, \\partial u\\,v  = - \\int_{\\Omega} \\nabla u_k \\cdot \\nabla v - \\int_{\\Omega} \\left(e^{\\mu_1\\,u_k}-1\\right) v + \\int_{\\Omega} g\\, v \n",
    "$$\n",
    "In the left hand side we have the sum of the classic diffusion term and a reaction term. In the right hand side we have the residual ??"
   ]
  },
  {
   "cell_type": "code",
   "execution_count": null,
   "metadata": {
    "id": "H7O49sEqW1Bk"
   },
   "outputs": [],
   "source": [
    "#the numPoints are the quadrature points\n",
    "\n",
    "def Diffusion(numPoints, points):\n",
    "\tvalues_d = np.ones(numPoints, order='F')\n",
    "\treturn values_d.ctypes.data\n",
    "\n",
    "def Reaction(numPoints, points, mu_0):\n",
    "\tvalues_r = mu_0 * np.ones(numPoints, order='F')\n",
    "\treturn values_r.ctypes.data\n",
    "\n",
    "def Reaction_non_linear(numPoints, points, mu_1, u):\n",
    "\tvecu = gedim.make_nd_array(u, numPoints, np.double)\n",
    "\tvalues_nl = np.exp(mu_1 * vecu)\n",
    "\treturn values_nl.ctypes.data\n",
    "\n",
    "def Burger_f(numPoints, points):\n",
    "\tmatPoints = gedim.make_nd_matrix(points, (3, numPoints), np.double)\n",
    "\tvalues_f = 32.0 * (matPoints[1,:] * (1.0 - matPoints[1,:]) + matPoints[0,:] * (1.0 - matPoints[0,:])) + \\\n",
    "\t(16.0 * (1.0 - 2.0 * matPoints[0,:]) * matPoints[1,:] * (1.0 - matPoints[1,:]) + \\\n",
    "\t16.0 * (1.0 - 2.0 * matPoints[1,:]) * matPoints[0,:] * (1.0 - matPoints[0,:])) * \\\n",
    "\t16.0 * (matPoints[1,:] * (1.0 - matPoints[1,:]) * matPoints[0,:] * (1.0 - matPoints[0,:]))\n",
    "\treturn values_f.ctypes.data\n",
    "\n",
    "def Burger_non_linear_f(numPoints, points, u, u_x, u_y):\n",
    "\tvecu = gedim.make_nd_array(u, numPoints, np.double)\n",
    "\tvecu_x = gedim.make_nd_array(u_x, numPoints, np.double)\n",
    "\tvecu_y = gedim.make_nd_array(u_y, numPoints, np.double)\n",
    "\tvalues_nl_f = vecu * (vecu_x + vecu_y)\n",
    "\treturn values_nl_f.ctypes.data\n",
    "\n",
    "def Burger_non_linear_der_f(numPoints, points, u, u_x, u_y):\n",
    "\tvecu_x = gedim.make_nd_array(u_x, numPoints, np.double)\n",
    "\tvecu_y = gedim.make_nd_array(u_y, numPoints, np.double)\n",
    "\tvalues_nl_d_f = np.zeros((2, numPoints), order='F') # we have always the geometric dimension in the rows, and number of points in the columns\n",
    "\tvalues_nl_d_f[0,:] = vecu_x\n",
    "\tvalues_nl_d_f[1,:] = vecu_y\n",
    "\treturn values_nl_d_f.ctypes.data\n",
    "\n",
    "def Burger_exactSolution(numPoints, points): #exact solution given by the problem\n",
    "\tmatPoints = gedim.make_nd_matrix(points, (3, numPoints), np.double)\n",
    "\tvalues_ex = 16.0 * (matPoints[1,:] * (1.0 - matPoints[1,:]) * matPoints[0,:] * (1.0 - matPoints[0,:]))\n",
    "\treturn values_ex.ctypes.data\n",
    "\n",
    "def Burger_exactDerivativeSolution(direction, numPoints, points): #function of the derivative in each direction\n",
    "\tmatPoints = gedim.make_nd_matrix(points, (3, numPoints), np.double)\n",
    "\n",
    "\tif direction == 0:\n",
    "\t\tvalues_ex_d = 16.0 * (1.0 - 2.0 * matPoints[0,:]) * matPoints[1,:] * (1.0 - matPoints[1,:])\n",
    "\telif direction == 1:\n",
    "\t\tvalues_ex_d = 16.0 * (1.0 - 2.0 * matPoints[1,:]) * matPoints[0,:] * (1.0 - matPoints[0,:])\n",
    "\telse:\n",
    "\t\tvalues_ex_d = np.zeros(numPoints, order='F')\n",
    "\n",
    "\treturn values_ex_d.ctypes.data\n",
    "\n",
    "def Ones(numPoints, points):\n",
    "\tvalues_one = np.ones(numPoints, order='F')\n",
    "\treturn values_one.ctypes.data\n",
    "\n",
    "def OnesDerivative(numPoints, points):\n",
    "\tvalues_one_d = np.ones((2, numPoints), order='F')\n",
    "\treturn values_one_d.ctypes.data\n",
    "\n",
    "def Zeros(numPoints, points): \n",
    "\tvalues_zero = np.zeros(numPoints, order='F')\n",
    "\treturn values_zero.ctypes.data\n",
    "\n",
    "def ZerosDerivative(direction, numPoints, points):  #gradient null in each direction\n",
    "\tvalues_zero_d = np.zeros(numPoints, order='F')\n",
    "\treturn values_zero_d.ctypes.data"
   ]
  },
  {
   "cell_type": "markdown",
   "metadata": {
    "id": "ib0pPAik4x8g"
   },
   "source": [
    "### Define Simulation Parameters"
   ]
  },
  {
   "cell_type": "markdown",
   "metadata": {},
   "source": [
    "Set geometry parameters"
   ]
  },
  {
   "cell_type": "code",
   "execution_count": null,
   "metadata": {
    "id": "2ok6VkTC40OC"
   },
   "outputs": [],
   "source": [
    "meshSize = 0.01 #We choose a meshsize = maximum area required in our domain discretization\n",
    "order = 1 #Order of finite element\n",
    "\n",
    "#all the boundary condition are homogenous dirichlte boundary condition so we use just one marker for the border equal to 1\n",
    "domain = { 'SquareEdge': 1.0, 'VerticesBoundaryCondition': [1,1,1,1], 'EdgesBoundaryCondition': [1,1,1,1], 'DiscretizationType': 1, 'MeshCellsMaximumArea': meshSize } \n",
    "[meshInfo, mesh] = gedim.CreateDomainSquare(domain, lib)\n",
    "\n",
    "discreteSpace = { 'Order': order, 'Type': 1, 'BoundaryConditionsType': [1, 2] }\n",
    "[problemData, dofs, strongs] = gedim.Discretize(discreteSpace, lib)"
   ]
  },
  {
   "cell_type": "markdown",
   "metadata": {},
   "source": [
    "Set Newton parameters"
   ]
  },
  {
   "cell_type": "code",
   "execution_count": null,
   "metadata": {
    "id": "2ok6VkTC40OC"
   },
   "outputs": [],
   "source": [
    "residual_norm = 1.0; # variable in which we sotre the residual L2 norm\n",
    "solution_norm = 1.0; # variable in which we store the solution L2 norm. They are needed in order to implement a Newton step\n",
    "newton_tol = 1.0e-6 # tolerance we want to achieve with the solution approximation. It cannot be lower than the machine precision (epsilon di macchina)\n",
    "max_iterations = 20 # 7 # if the mesh is not too fine it is not necessary a too high number of iteration\n",
    "num_iteration = 1 "
   ]
  },
  {
   "cell_type": "markdown",
   "metadata": {},
   "source": [
    "Set Initial Solution"
   ]
  },
  {
   "cell_type": "code",
   "execution_count": null,
   "metadata": {},
   "outputs": [],
   "source": [
    "# Newton schema is a second order algorithm, ...(min.14)\n",
    "u_k = np.zeros(problemData['NumberDOFs'], order='F') \n",
    "u_strong = np.zeros(problemData['NumberStrongs'], order='F')"
   ]
  },
  {
   "cell_type": "markdown",
   "metadata": {
    "id": "Xqp_ZBhOZoqD"
   },
   "source": [
    "### Run Newton Algorithm"
   ]
  },
  {
   "cell_type": "code",
   "execution_count": null,
   "metadata": {},
   "outputs": [],
   "source": [
    "#the tolerance is relative so we multiplied it by the solution norm\n",
    "#if the first is the criteria that wins there is a problem\n",
    "while num_iteration < max_iterations and residual_norm > newton_tol * solution_norm: \n",
    "        #We start assembling the classic diffusion (or stiffness) matrix: we have to give it the diffusion term, the problem and the library\n",
    "        #The diffusion coefficient in our case is a function that give us 1 and we call it Diffusion\n",
    "    [stiffness, stiffnessStrong] = gedim.AssembleStiffnessMatrix(Diffusion, problemData, lib)\n",
    "\n",
    "        #u_k is known at the iteration k, so it is a costant that depends on the solution k of our algorithm. \n",
    "        #We need to give to the function reaction also the solution at the previous step\n",
    "        #Everything is related on something of the Newton solution at the step k is indicated by \"AssembleNonLinear\"\n",
    "        #Again the reaction coefficient is a function called Reaction that returns every 1 multiplied by the parameter mu_0. IF WE HAVE A PARAMETER, FOR EXAMPLE \\LAMBDA Burger_c IS \\LAMBDA EVALUATED IN THE POINT\n",
    "    [reaction, reactionStrong] = gedim.AssembleNonLinearReactionMatrix(Reaction, Reaction_non_linear, u_k, u_strong, problemData, lib)\n",
    "\n",
    "\n",
    "        #We don't have the unknown, but we just have the test functions. In order to compute g we have to compute the derivative and the laplacian of the exact solution and substitute it in the equation\n",
    "    forcingTerm_g = gedim.AssembleForcingTerm(Burger_f, problemData, lib)\n",
    "\n",
    "        #We don't have any parameters, so we give again 1 as coefficient. forcingTerm_v because the sencond term of the right hand side does not depends on the derivative of the test function v, but on the function v itself\n",
    "    forcingTerm_v = gedim.AssembleNonLinearForcingTerm(Ones, Burger_non_linear_f, u_k, u_strong, problemData, lib)\n",
    "\n",
    "        #In order to compute the first term of the right hand side we have to compute the .... which is computed in Burger_non_linear_der_f. It depends on the v derivative\n",
    "    forcingTerm_der_v = gedim.AssembleNonLinearDerivativeForcingTerm(OnesDerivative, Burger_non_linear_der_f, u_k, u_strong, problemData, lib)\n",
    "    \n",
    "\n",
    "        #In general we use LU solver because it doesn't need the matrix to be symmetric and definite positive\n",
    "    du = gedim.LUSolver(stiffness + advection + reaction, \\\n",
    "            forcingTerm_g - forcingTerm_v - forcingTerm_der_v, \\\n",
    "            lib)\n",
    "    \n",
    "    #Newton step: we add to the old solution the increment found with the Newton method\n",
    "    u_k = u_k + du\n",
    "\n",
    "    #Error computation: con il galerkin classico possiamo calcolare l'errore con le funzioni ComputeError, ma se il metodo non è quello classico, non è detto esistano le rispettive funzioni\n",
    "    du_normL2 = gedim.ComputeErrorL2(Zeros, du, np.zeros(problemData['NumberStrongs'], order='F'), lib)\n",
    "    u_errorL2 = gedim.ComputeErrorL2(Burger_exactSolution, u_k, u_strong, lib)\n",
    "    u_errorH1 = gedim.ComputeErrorH1(Burger_exactDerivativeSolution, u_k, u_strong, lib) \n",
    "    u_normL2 = gedim.ComputeErrorL2(Zeros, u_k, u_strong, lib) # we aim it is zero, so we pass to it the zero function\n",
    "    u_normH1 = gedim.ComputeErrorH1(ZerosDerivative, u_k, u_strong, lib) #Similarly t the previous, we pass the function with derivative null along each direction\n",
    "    \n",
    "    solution_norm = u_normL2;\n",
    "    residual_norm = du_normL2;\n",
    "    \n",
    "    print(\"dofs\", \"h\", \"errorL2\", \"errorH1\", \"residual\", \"iteration\", \"max_iteration\")\n",
    "    print(problemData['NumberDOFs'], '{:.16e}'.format(problemData['H']), '{:.16e}'.format(u_errorL2 / u_normL2), '{:.16e}'.format(u_errorH1 / u_normH1), '{:.16e}'.format(residual_norm / u_normL2), '{:d}'.format(num_iteration), '{:d}'.format(max_iterations)) \n",
    "    \n",
    "    num_iteration = num_iteration + 1\n",
    "\n",
    "    #In order to achieve a good approximation (error under the tolerance) are needed just 4 iteration of the Newton schema"
   ]
  },
  {
   "cell_type": "markdown",
   "metadata": {},
   "source": [
    "### Plot Solution"
   ]
  },
  {
   "cell_type": "code",
   "execution_count": null,
   "metadata": {},
   "outputs": [],
   "source": [
    "#Visualizzazione della soluzione e calcolo dell'errore FONDAMENTALI NEL PROGETTO !!!\n",
    "gedim.PlotSolution(mesh, dofs, strongs, u_k, u_strong)\n",
    "\n",
    "#PLotSolution implements in Pyton the two plot of 2D and 3D plots of the solution. IT's better to export the solution in order to visulize the solution in other applications, as ParaView\n",
    "#ExportSolution give us a file .inp which is the file format of the UCD structur file. It's limitated to specific type of geometrical elemntsù: tringle hexahedron, thetraedron, pyramidon, line, points.\n",
    "# Filter \"Warp by scalar\" in ParaView let choos one of the scalar associated to the solution... to 3D visualization\n",
    "gedim.ExportSolution(Burger_exactSolution, u_k, u_strong, lib)\n",
    "\n",
    "#Nella costruzione delle funzioni non ci interessava sapere chi fossero i nodi di quadratura per la costruzione delle matrici. In questo caso invece, dovendo valutare l'errore in tutte\n",
    "#le celle dobbiamo conoscere i nodi di quadratura in tutto il dominio e li salviamo nella matrice globale quadraturePoints\n",
    "#Inoltre per ogni nodo di quadratura dobbiamo conoscere il peso per cui dobbiamo moltiplicare, altrimenti l'approssimazione dell'integrale non è corretta. \n",
    "#La sommma dei pesi è 1 poichè approssimo l'integrale della funzione unitaria che fornisce la misura del nostro dominio\n",
    "[numQuadraturePoints, quadraturePoints, quadratureWeights, sol, sol_x, sol_y] = gedim.EvaluateSolutionOnPoints(u_k, u_strong, lib)\n",
    "\n",
    "#If the order of FE is 2 the PlotSoution does not use the info on the middle points of the FE but just that on the vertices\n",
    "#In order to taking account also of the dofs that are not equal to the vertices we use ExtractSolutionOnPoints.\n",
    "#We have a collection of points and in each point we have a value of the solution: we have the galerkin numerical solution evaluated in each qadrature formula. \n",
    "#We don't have the solution on the cells.\n",
    "#In order to have the solution on cells we have to add a filter to the numeric solution that is associated to each point of the mesh, not to the cell. We need to change cell\n",
    "#array to point array: using cellDataPointData.\n",
    "#Then, we have to generate a mesh: we use the Delauneay 2D from the filter on the solution on points. We obtain a mesh conformed to our points.\n",
    "#The borders are missing because the quadrature formula is implemented INSIDE the cells. We add the warpByScalar filter and we see the expected better approximation of the exact solution\n",
    "gedim.ExportSolutionOnPoints(numQuadraturePoints, quadraturePoints, sol, lib) \n",
    "\n",
    "\n",
    "#If we have a network, notice that sol is an array with shape 864, and for each point we have the evaluation of the solution on each point. In Galerkin it is correct, but not in NN\n",
    "#In the latter case we have to evaluate the network in quadrature points adding the line \n",
    "#nn(QuadraturePoints)\n",
    "#before the export."
   ]
  }
 ],
 "metadata": {
  "colab": {
   "provenance": []
  },
  "kernelspec": {
   "display_name": "Python 3 (ipykernel)",
   "language": "python",
   "name": "python3"
  },
  "language_info": {
   "codemirror_mode": {
    "name": "ipython",
    "version": 3
   },
   "file_extension": ".py",
   "mimetype": "text/x-python",
   "name": "python",
   "nbconvert_exporter": "python",
   "pygments_lexer": "ipython3",
   "version": "3.10.14"
  }
 },
 "nbformat": 4,
 "nbformat_minor": 4
}
